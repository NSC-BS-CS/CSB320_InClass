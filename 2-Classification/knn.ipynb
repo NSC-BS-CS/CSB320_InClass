{
 "cells": [
  {
   "cell_type": "markdown",
   "metadata": {},
   "source": [
    "### Imports\n"
   ]
  },
  {
   "cell_type": "code",
   "execution_count": 8,
   "metadata": {},
   "outputs": [],
   "source": [
    "import numpy as np\n",
    "import pandas as pd\n",
    "from sklearn.model_selection import train_test_split\n",
    "from sklearn.preprocessing import StandardScaler\n",
    "from sklearn.neighbors import KNeighborsClassifier\n",
    "from sklearn.metrics import accuracy_score\n",
    "from sklearn.datasets import load_iris"
   ]
  },
  {
   "cell_type": "markdown",
   "metadata": {},
   "source": [
    "### Data Collection\n"
   ]
  },
  {
   "cell_type": "code",
   "execution_count": 9,
   "metadata": {},
   "outputs": [],
   "source": [
    "# Load Iris dataset from scikit-learn\n",
    "iris = load_iris()\n",
    "X = iris.data  # Features\n",
    "y = iris.target  # Target labels"
   ]
  },
  {
   "cell_type": "markdown",
   "metadata": {},
   "source": [
    "### Feature Transformation & Model Training\n"
   ]
  },
  {
   "cell_type": "code",
   "execution_count": 10,
   "metadata": {},
   "outputs": [],
   "source": [
    "# Train-test split (stratified to maintain class balance)\n",
    "X_train, X_test, y_train, y_test = train_test_split(\n",
    "    X, y, test_size=0.2, random_state=42, stratify=y\n",
    ")\n",
    "\n",
    "# Standardize features (important for distance-based algorithms like KNN)\n",
    "scaler = StandardScaler()\n",
    "X_train = scaler.fit_transform(X_train)\n",
    "X_test = scaler.transform(X_test)\n",
    "\n"
   ]
  },
  {
   "cell_type": "markdown",
   "metadata": {},
   "source": [
    "### Prediction & Evaluation\n"
   ]
  },
  {
   "cell_type": "code",
   "execution_count": 11,
   "metadata": {},
   "outputs": [
    {
     "name": "stdout",
     "output_type": "stream",
     "text": [
      "k =  1 → Accuracy: 0.9667\n",
      "k =  2 → Accuracy: 0.9333\n",
      "k =  3 → Accuracy: 0.9333\n",
      "k =  4 → Accuracy: 0.9333\n",
      "k =  5 → Accuracy: 0.9333\n",
      "k =  6 → Accuracy: 0.9333\n",
      "k =  7 → Accuracy: 0.9667\n",
      "k =  8 → Accuracy: 0.9333\n",
      "k =  9 → Accuracy: 0.9667\n",
      "k = 10 → Accuracy: 0.9667\n",
      "k = 11 → Accuracy: 0.9667\n",
      "k = 12 → Accuracy: 0.9667\n",
      "k = 13 → Accuracy: 0.9667\n",
      "k = 14 → Accuracy: 0.9667\n",
      "k = 15 → Accuracy: 0.9667\n",
      "k = 16 → Accuracy: 0.9667\n",
      "k = 17 → Accuracy: 0.9667\n",
      "k = 18 → Accuracy: 0.9667\n",
      "k = 19 → Accuracy: 0.9667\n",
      "k = 20 → Accuracy: 0.9667\n",
      "k = 21 → Accuracy: 0.9667\n",
      "k = 22 → Accuracy: 0.9333\n",
      "k = 23 → Accuracy: 0.9333\n",
      "k = 24 → Accuracy: 0.9000\n",
      "k = 25 → Accuracy: 0.9000\n",
      "k = 26 → Accuracy: 0.8667\n",
      "k = 27 → Accuracy: 0.8667\n",
      "k = 28 → Accuracy: 0.8667\n",
      "k = 29 → Accuracy: 0.8667\n",
      "k = 30 → Accuracy: 0.8667\n",
      "k = 31 → Accuracy: 0.8667\n",
      "k = 32 → Accuracy: 0.8667\n",
      "k = 33 → Accuracy: 0.8667\n",
      "k = 34 → Accuracy: 0.8667\n",
      "k = 35 → Accuracy: 0.8667\n",
      "k = 36 → Accuracy: 0.8667\n",
      "k = 37 → Accuracy: 0.8667\n",
      "k = 38 → Accuracy: 0.8667\n",
      "k = 39 → Accuracy: 0.8667\n",
      "k = 40 → Accuracy: 0.8667\n"
     ]
    }
   ],
   "source": [
    "# Try k values from 1 to 40\n",
    "for k in range(1, 41):\n",
    "    knn = KNeighborsClassifier(n_neighbors=k)\n",
    "    knn.fit(X_train, y_train)\n",
    "    y_pred = knn.predict(X_test)\n",
    "    accuracy = accuracy_score(y_test, y_pred)\n",
    "    print(f\"k = {k:2d} → Accuracy: {accuracy:.4f}\")"
   ]
  },
  {
   "cell_type": "code",
   "execution_count": null,
   "metadata": {},
   "outputs": [],
   "source": []
  }
 ],
 "metadata": {
  "kernelspec": {
   "display_name": "CSB320_InClass",
   "language": "python",
   "name": "python3"
  },
  "language_info": {
   "codemirror_mode": {
    "name": "ipython",
    "version": 3
   },
   "file_extension": ".py",
   "mimetype": "text/x-python",
   "name": "python",
   "nbconvert_exporter": "python",
   "pygments_lexer": "ipython3",
   "version": "3.9.21"
  }
 },
 "nbformat": 4,
 "nbformat_minor": 2
}
