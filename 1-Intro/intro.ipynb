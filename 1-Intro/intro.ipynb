{
 "cells": [
  {
   "cell_type": "code",
   "execution_count": 1,
   "metadata": {},
   "outputs": [
    {
     "ename": "ModuleNotFoundError",
     "evalue": "No module named 'numpy'",
     "output_type": "error",
     "traceback": [
      "\u001b[0;31m---------------------------------------------------------------------------\u001b[0m",
      "\u001b[0;31mModuleNotFoundError\u001b[0m                       Traceback (most recent call last)",
      "Cell \u001b[0;32mIn[1], line 1\u001b[0m\n\u001b[0;32m----> 1\u001b[0m \u001b[38;5;28;01mimport\u001b[39;00m\u001b[38;5;250m \u001b[39m\u001b[38;5;21;01mnumpy\u001b[39;00m\u001b[38;5;250m \u001b[39m\u001b[38;5;28;01mas\u001b[39;00m\u001b[38;5;250m \u001b[39m\u001b[38;5;21;01mnp\u001b[39;00m\n\u001b[1;32m      2\u001b[0m \u001b[38;5;28;01mimport\u001b[39;00m\u001b[38;5;250m \u001b[39m\u001b[38;5;21;01mpandas\u001b[39;00m\u001b[38;5;250m \u001b[39m\u001b[38;5;28;01mas\u001b[39;00m\u001b[38;5;250m \u001b[39m\u001b[38;5;21;01mpd\u001b[39;00m\n\u001b[1;32m      3\u001b[0m \u001b[38;5;28;01mimport\u001b[39;00m\u001b[38;5;250m \u001b[39m\u001b[38;5;21;01mmatplotlib\u001b[39;00m\u001b[38;5;21;01m.\u001b[39;00m\u001b[38;5;21;01mpyplot\u001b[39;00m\u001b[38;5;250m \u001b[39m\u001b[38;5;28;01mas\u001b[39;00m\u001b[38;5;250m \u001b[39m\u001b[38;5;21;01mplt\u001b[39;00m\n",
      "\u001b[0;31mModuleNotFoundError\u001b[0m: No module named 'numpy'"
     ]
    }
   ],
   "source": [
    "import numpy as np\n",
    "import pandas as pd\n",
    "import matplotlib.pyplot as plt\n",
    "from sklearn.model_selection import train_test_split\n",
    "from sklearn.linear_model import LinearRegression\n",
    "from sklearn.metrics import mean_squared_error, r2_score\n",
    "\n",
    "# --- Understanding Features and Instances ---\n",
    "# Creating a simple dataset\n",
    "np.random.seed(42)\n",
    "data = {\n",
    "    'Age': np.random.randint(20, 60, 10),\n",
    "    'Salary': np.random.randint(30000, 100000, 10),\n",
    "    'House Price': np.random.randint(150000, 500000, 10)\n",
    "}\n",
    "df = pd.DataFrame(data)\n",
    "\n",
    "# Display the dataset\n",
    "print(\"Dataset (Features and Instances):\")\n",
    "print(df)\n",
    "\n",
    "# Features (X) and Target Variable (y)\n",
    "X = df[['Age', 'Salary']]\n",
    "y = df['House Price']\n",
    "\n",
    "# --- Review of Python DataFrames ---\n",
    "print(\"\\nDataFrame Information:\")\n",
    "print(df.info())\n",
    "print(\"\\nDataFrame Summary Statistics:\")\n",
    "print(df.describe())\n",
    "\n",
    "# Visualizing the features\n",
    "plt.scatter(df['Age'], df['House Price'], label='Age vs House Price')\n",
    "plt.scatter(df['Salary'], df['House Price'], label='Salary vs House Price')\n",
    "plt.xlabel(\"Feature Values\")\n",
    "plt.ylabel(\"House Price\")\n",
    "plt.legend()\n",
    "plt.title(\"Feature Relationships with House Price\")\n",
    "plt.show()\n",
    "\n",
    "# --- Introducing Scikit-Learn ---\n",
    "# Splitting data into training and testing sets\n",
    "X_train, X_test, y_train, y_test = train_test_split(X, y, test_size=0.2, random_state=42)\n",
    "\n",
    "# Define input and output features (already done: X and y)\n",
    "\n",
    "# Initialize an estimator (Linear Regression model)\n",
    "model = LinearRegression()\n",
    "\n",
    "# Fit the estimator (train the model)\n",
    "model.fit(X_train, y_train)\n",
    "\n",
    "# Use the fitted estimator to make predictions\n",
    "y_pred = model.predict(X_test)\n",
    "\n",
    "# Evaluate the fitted estimator's performance\n",
    "mse = mean_squared_error(y_test, y_pred)\n",
    "r2 = r2_score(y_test, y_pred)\n",
    "\n",
    "print(\"\\nModel Performance:\")\n",
    "print(f\"Mean Squared Error: {mse:.4f}\")\n",
    "print(f\"R-squared Score: {r2:.4f}\")\n",
    "\n",
    "# Plot actual vs predicted values\n",
    "plt.scatter(y_test, y_pred)\n",
    "plt.xlabel(\"Actual House Prices\")\n",
    "plt.ylabel(\"Predicted House Prices\")\n",
    "plt.title(\"Actual vs Predicted House Prices\")\n",
    "plt.show()\n"
   ]
  },
  {
   "cell_type": "code",
   "execution_count": null,
   "metadata": {},
   "outputs": [],
   "source": []
  }
 ],
 "metadata": {
  "kernelspec": {
   "display_name": "Python 3",
   "language": "python",
   "name": "python3"
  },
  "language_info": {
   "codemirror_mode": {
    "name": "ipython",
    "version": 3
   },
   "file_extension": ".py",
   "mimetype": "text/x-python",
   "name": "python",
   "nbconvert_exporter": "python",
   "pygments_lexer": "ipython3",
   "version": "3.12.9"
  }
 },
 "nbformat": 4,
 "nbformat_minor": 2
}
