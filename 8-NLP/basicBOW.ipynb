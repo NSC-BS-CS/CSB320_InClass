{
 "cells": [
  {
   "cell_type": "markdown",
   "metadata": {},
   "source": [
    "### Imports\n"
   ]
  },
  {
   "cell_type": "code",
   "execution_count": 22,
   "metadata": {},
   "outputs": [
    {
     "name": "stderr",
     "output_type": "stream",
     "text": [
      "[nltk_data] Downloading package punkt_tab to\n",
      "[nltk_data]     /Users/elloyd/nltk_data...\n",
      "[nltk_data]   Unzipping tokenizers/punkt_tab.zip.\n",
      "[nltk_data] Downloading package stopwords to\n",
      "[nltk_data]     /Users/elloyd/nltk_data...\n",
      "[nltk_data]   Package stopwords is already up-to-date!\n",
      "[nltk_data] Downloading package wordnet to /Users/elloyd/nltk_data...\n",
      "[nltk_data]   Package wordnet is already up-to-date!\n"
     ]
    },
    {
     "data": {
      "text/plain": [
       "True"
      ]
     },
     "execution_count": 22,
     "metadata": {},
     "output_type": "execute_result"
    }
   ],
   "source": [
    "import nltk\n",
    "import string\n",
    "from nltk.tokenize import word_tokenize\n",
    "from nltk.corpus import stopwords\n",
    "from nltk.stem import WordNetLemmatizer\n",
    "from sklearn.feature_extraction.text import CountVectorizer\n",
    "\n",
    "# Download required NLTK resources\n",
    "nltk.download('punkt_tab', force=True)\n",
    "nltk.download(\"stopwords\")\n",
    "nltk.download(\"wordnet\")"
   ]
  },
  {
   "cell_type": "code",
   "execution_count": 18,
   "metadata": {},
   "outputs": [
    {
     "name": "stdout",
     "output_type": "stream",
     "text": [
      "['Sample sentence for testing.']\n"
     ]
    }
   ],
   "source": [
    "from nltk.tokenize import word_tokenize\n",
    "from nltk.tokenize.punkt import PunktSentenceTokenizer\n",
    "\n",
    "tokenizer = PunktSentenceTokenizer()\n",
    "tokens = tokenizer.tokenize(\"Sample sentence for testing.\")\n",
    "print(tokens)"
   ]
  },
  {
   "cell_type": "markdown",
   "metadata": {},
   "source": [
    "### Data load\n"
   ]
  },
  {
   "cell_type": "code",
   "execution_count": 23,
   "metadata": {},
   "outputs": [],
   "source": [
    "\n",
    "# Load text from a file\n",
    "file_path = \"NLP.txt\"  # Change this to your file name\n",
    "with open(file_path, \"r\", encoding=\"utf-8\") as file:\n",
    "    text = file.read()\n"
   ]
  },
  {
   "cell_type": "markdown",
   "metadata": {},
   "source": [
    "### Data Prep\n"
   ]
  },
  {
   "cell_type": "code",
   "execution_count": 25,
   "metadata": {},
   "outputs": [],
   "source": [
    "\n",
    "# 1. Tokenization\n",
    "tokens = word_tokenize(text)\n",
    "\n",
    "# 2. Convert to lowercase & Remove punctuation\n",
    "tokens = [word.lower() for word in tokens if word.isalnum()]\n",
    "\n",
    "# 3. Remove stop words\n",
    "stop_words = set(stopwords.words(\"english\"))\n",
    "filtered_tokens = [word for word in tokens if word not in stop_words]\n",
    "\n",
    "# 4. Lemmatization\n",
    "lemmatizer = WordNetLemmatizer()\n",
    "lemmatized_tokens = [lemmatizer.lemmatize(word) for word in filtered_tokens]\n"
   ]
  },
  {
   "cell_type": "markdown",
   "metadata": {},
   "source": [
    "### Bag of Words\n"
   ]
  },
  {
   "cell_type": "code",
   "execution_count": 26,
   "metadata": {},
   "outputs": [
    {
     "name": "stdout",
     "output_type": "stream",
     "text": [
      "\n",
      "Cleaned Tokens: ['recently', 'conventional', 'wisdom', 'ai', 'better', 'human', 'decision', 'making', 'task', 'still', 'inferior', 'human', 'cognitive', 'creative', 'one', 'past', 'two', 'year', 'ai', 'advanced', 'leap', 'bound', 'changing', 'common', 'notion', 'technology', 'visible', 'advance', 'called', 'natural', 'language', 'processing', 'nlp', 'branch', 'ai', 'focused', 'computer', 'process', 'language', 'like', 'human', 'used', 'write', 'article', 'guardian', 'blog', 'post', 'gone', 'viral', 'feat', 'possible', 'year', 'ago', 'ai', 'even', 'excels', 'cognitive', 'task', 'like', 'programming', 'able', 'generate', 'program', 'simple', 'video', 'game', 'human', 'instruction', 'yet', 'stunt', 'may', 'attention', 'grabbing', 'really', 'indicative', 'tech', 'business', 'nlp', 'best', 'known', 'natural', 'language', 'processing', 'tool', 'openai', 'us', 'ai', 'statistic', 'predict', 'next', 'word', 'sentence', 'based', 'preceding', 'word', 'nlp', 'practitioner', 'call', 'tool', 'like', 'language', 'model', 'used', 'simple', 'analytics', 'task', 'classifying', 'document', 'analyzing', 'sentiment', 'block', 'text', 'well', 'advanced', 'task', 'answering', 'question', 'summarizing', 'report', 'language', 'model', 'already', 'reshaping', 'traditional', 'text', 'analytics', 'especially', 'pivotal', 'language', 'model', '10x', 'larger', 'previous', 'model', 'upon', 'release', 'first', 'large', 'language', 'model', 'enabled', 'perform', 'even', 'advanced', 'task', 'like', 'programming', 'solving', 'high', 'math', 'problem', 'latest', 'version', 'called', 'instructgpt', 'human', 'generate', 'response', 'much', 'better', 'aligned', 'human', 'value', 'user', 'intention', 'google', 'latest', 'model', 'show', 'impressive', 'breakthrough', 'language', 'reasoning', 'business', 'three', 'area', 'appeared', 'promising', 'writing', 'coding', 'reasoning', 'openai', 'creator', 'developed', 'language', 'model', 'intended', 'act', 'assistant', 'programmer', 'generating', 'code', 'natural', 'language', 'input', 'tool', 'codex', 'already', 'powering', 'product', 'like', 'copilot', 'microsoft', 'subsidiary', 'github', 'capable', 'creating', 'basic', 'video', 'game', 'simply', 'typing', 'instruction', 'transformative', 'capability', 'already', 'expected', 'change', 'nature', 'programmer', 'job', 'model', 'continue', 'improve', 'latest', 'google', 'deepmind', 'ai', 'lab', 'example', 'demonstrates', 'critical', 'thinking', 'logic', 'skill', 'necessary', 'outperform', 'human', 'programming', 'competition', 'model', 'like', 'considered', 'foundation', 'model', 'emerging', 'ai', 'research', 'area', 'also', 'work', 'type', 'data', 'image', 'video', 'foundation', 'model', 'even', 'trained', 'multiple', 'form', 'data', 'time', 'like', 'openai', '2', 'trained', 'language', 'image', 'generate', 'rendering', 'imaginary', 'scene', 'object', 'simply', 'text', 'prompt', 'due', 'potential', 'transform', 'nature', 'cognitive', 'work', 'economist', 'expect', 'foundation', 'model', 'may', 'affect', 'every', 'part', 'economy', 'could', 'lead', 'increase', 'economic', 'growth', 'similar', 'industrial', 'revolution', 'ai', 'research', 'assistant', 'work', 'looking', 'tool', 'assist', 'researcher', 'research', 'process', 'currently', 'working', 'ought', 'san', 'francisco', 'company', 'developing', 'reasoning', 'tool', 'called', 'elicit', 'intended', 'help', 'researcher', 'answer', 'question', 'minute', 'hour', 'instead', 'week', 'month', 'elicit', 'designed', 'growing', 'number', 'specific', 'task', 'relevant', 'research', 'like', 'summarization', 'data', 'labeling', 'rephrasing', 'brainstorming', 'literature', 'review', 'found', 'surprisingly', 'elicit', 'work', 'better', 'task', 'others', 'task', 'like', 'data', 'labeling', 'summarization', 'still', 'rough', 'around', 'edge', 'noisy', 'result', 'spotty', 'accuracy', 'research', 'ought', 'research', 'openai', 'show', 'promise', 'future', 'example', 'rephrase', 'task', 'useful', 'writing', 'lack', 'integration', 'word', 'processing', 'apps', 'render', 'impractical', 'brainstorming', 'task', 'great', 'generating', 'idea', 'identifying', 'overlooked', 'topic', 'despite', 'noisy', 'result', 'barrier', 'adoption', 'currently', 'valuable', 'variety', 'situation', 'yet', 'task', 'elicit', 'offer', 'find', 'literature', 'review', 'useful', 'elicit', 'ai', 'research', 'assistant', 'sort', 'need', 'start', 'digging', 'new', 'research', 'topic', 'become', 'resource', 'changing', 'work', 'spend', 'much', 'less', 'time', 'trying', 'find', 'existing', 'content', 'relevant', 'research', 'question', 'result', 'applicable', 'traditional', 'interface', 'academic', 'search', 'like', 'google', 'scholar', 'also', 'beginning', 'integrate', 'brainstorming', 'task', 'work', 'well', 'experience', 'tool', 'inspired', 'latest', 'research', 'seek', 'utilize', 'foundation', 'model', 'supporting', 'strategic', 'planning', 'organization', 'prepare', 'future', 'identify', 'text', 'data', 'asset', 'determine', 'latest', 'technique', 'leveraged', 'add', 'value', 'firm', 'certainly', 'aware', 'value', 'data', 'still', 'may', 'overlooking', 'essential', 'data', 'asset', 'utilizing', 'text', 'analytics', 'nlp', 'throughout', 'organization', 'text', 'data', 'certainly', 'valuable', 'customer', 'experience', 'management', 'understanding', 'voice', 'customer', 'think', 'text', 'data', 'asset', 'organization', 'email', 'analyst', 'report', 'contract', 'press', 'release', 'archive', 'even', 'meeting', 'phone', 'call', 'transcribed', 'much', 'text', 'data', 'need', 'advanced', 'model', 'like', 'extract', 'value', 'hugging', 'face', 'nlp', 'startup', 'recently', 'released', 'autonlp', 'new', 'tool', 'automates', 'training', 'model', 'standard', 'text', 'analytics', 'task', 'simply', 'uploading', 'data', 'platform', 'data', 'still', 'need', 'label', 'far', 'fewer', 'application', 'many', 'firm', 'made', 'ambitious', 'bet', 'ai', 'struggle', 'drive', 'value', 'core', 'business', 'remain', 'cautious', 'overzealous', 'good', 'first', 'step', 'existing', 'machine', 'learning', 'engineer', 'even', 'talented', 'data', 'scientist', 'manage', 'take', 'next', 'step', 'identify', 'data', 'asset', 'many', 'sector', 'even', 'division', 'within', 'organization', 'use', 'highly', 'specialized', 'vocabulary', 'combination', 'data', 'asset', 'open', 'datasets', 'train', 'model', 'need', 'specific', 'sector', 'division', 'think', 'finance', 'want', 'model', 'specialized', 'finance', 'want', 'model', 'customized', 'commercial', 'banking', 'capital', 'market', 'data', 'critical', 'unlabeled', 'data', 'better', 'specialized', 'model', 'like', 'unlock', 'untold', 'value', 'firm', 'understand', 'might', 'leverage', 'language', 'technology', 'make', 'better', 'decision', 'reorganize', 'skilled', 'labor', 'ai', 'replace', 'job', 'automate', 'many', 'task', 'even', 'decision', 'maker', 'startup', 'like', 'verneek', 'creating', 'tool', 'enable', 'everyone', 'make', 'decision', 'new', 'tool', 'transcend', 'traditional', 'business', 'intelligence', 'transform', 'nature', 'many', 'role', 'organization', 'programmer', 'beginning', 'need', 'start', 'understanding', 'technology', 'used', 'reorganize', 'skilled', 'labor', 'next', 'generation', 'tool', 'like', 'openai', 'codex', 'lead', 'productive', 'programmer', 'likely', 'mean', 'fewer', 'dedicated', 'programmer', 'employee', 'modest', 'programming', 'skill', 'using', 'increasing', 'number', 'complex', 'task', 'may', 'true', 'software', 'developer', 'significant', 'implication', 'task', 'like', 'data', 'processing', 'web', 'development', 'begin', 'incorporating', 'new', 'ai', 'tool', 'variety', 'task', 'better', 'understand', 'capability', 'right', 'tool', 'like', 'elicit', 'emerging', 'already', 'useful', 'surprising', 'way', 'fact', 'previous', 'suggestion', 'inspired', 'one', 'elicit', 'brainstorming', 'task', 'conditioned', 'three', 'suggestion', 'original', 'suggestion', 'perfect', 'reminded', 'critical', 'topic', 'overlooked', 'revised', 'article', 'accordingly', 'organization', 'task', 'like', 'assist', 'strategic', 'thinking', 'exercise', 'although', 'tremendous', 'potential', 'application', 'right', 'result', 'still', 'relatively', 'crude', 'already', 'add', 'value', 'current', 'state', 'bottom', 'line', 'need', 'encourage', 'broad', 'adoption', 'ai', 'tool', 'throughout', 'business', 'difficult', 'anticipate', 'tool', 'might', 'used', 'different', 'level', 'organization', 'best', 'way', 'get', 'understanding', 'tech', 'may', 'leader', 'firm', 'adopt', 'bet', 'boat', 'tech', 'may', 'work', 'team', 'gain', 'better', 'understanding', 'possible', 'ahead', 'competition', 'remember', 'current', 'ai', 'might', 'poised', 'replace', 'manager', 'manager', 'understand', 'ai', 'poised', 'replace', 'manager', 'underestimate', 'transformative', 'potential', 'ai', 'large', 'foundation', 'model', 'like', 'exhibit', 'ability', 'generalize', 'large', 'number', 'task', 'without', 'training', 'recent', 'progress', 'tech', 'significant', 'step', 'toward', 'generalization', 'general', 'artificial', 'intelligence', 'ultimate', 'goal', 'many', 'ai', 'researcher', 'including', 'openai', 'google', 'deepmind', 'system', 'tremendous', 'disruptive', 'potential', 'could', 'lead', 'explosive', 'economic', 'growth', 'would', 'radically', 'transform', 'business', 'society', 'may', 'still', 'skeptical', 'radically', 'transformative', 'ai', 'like', 'artificial', 'general', 'intelligence', 'prudent', 'organization', 'leader', 'cognizant', 'early', 'sign', 'progress', 'due', 'tremendous', 'disruptive', 'potential', 'consider', 'former', 'google', 'chief', 'eric', 'schmidt', 'expects', 'general', 'artificial', 'intelligence', 'year', 'uk', 'recently', 'took', 'official', 'position', 'risk', 'artificial', 'general', 'intelligence', 'organization', 'paid', 'attention', 'anthony', 'fauci', '2017', 'warning', 'importance', 'pandemic', 'preparedness', 'severe', 'effect', 'pandemic', 'ensuing', 'supply', 'chain', 'crisis', 'may', 'avoided', 'ignoring', 'transformative', 'potential', 'ai', 'also', 'carry', 'risk', 'similar', 'supply', 'chain', 'crisis', 'firm', 'inaction', 'irresponsible', 'use', 'ai', 'could', 'widespread', 'damaging', 'effect', 'society', 'increasing', 'inequality', 'risk', 'automation', 'however', 'unlike', 'supply', 'chain', 'crisis', 'societal', 'change', 'transformative', 'ai', 'likely', 'irreversible', 'could', 'even', 'continue', 'accelerate', 'organization', 'begin', 'preparing', 'capitalize', 'transformative', 'ai', 'part', 'avoid', 'undesirable', 'future', 'ensure', 'advanced', 'ai', 'used', 'equitably', 'benefit', 'society', 'ai', 'tool', 'stay', 'powerful', 'generalizable', 'ai', 'tool', 'like', 'elicit', 'tip', 'iceberg', 'multimodal', 'foundation', 'tool', 'poised', 'transform', 'business', 'way', 'still', 'difficult', 'predict', 'begin', 'preparing', 'start', 'understanding', 'text', 'data', 'asset', 'variety', 'cognitive', 'task', 'involved', 'different', 'role', 'organization', 'aggressively', 'adopt', 'new', 'ai', 'technology', 'work', 'well', 'others', 'employee', 'quicker', 'adjust', 'move', 'next', 'forget', 'adopt', 'technology', 'best', 'way', 'start', 'understand', 'future', 'role', 'organization']\n",
      "\n",
      "Bag of Words Features: ['10x' '2017' 'ability' 'able' 'academic' 'accelerate' 'accordingly'\n",
      " 'accuracy' 'act' 'add' 'adjust' 'adopt' 'adoption' 'advance' 'advanced'\n",
      " 'affect' 'aggressively' 'ago' 'ahead' 'ai' 'aligned' 'already' 'also'\n",
      " 'although' 'ambitious' 'analyst' 'analytics' 'analyzing' 'answer'\n",
      " 'answering' 'anthony' 'anticipate' 'appeared' 'applicable' 'application'\n",
      " 'apps' 'archive' 'area' 'around' 'article' 'artificial' 'asset' 'assist'\n",
      " 'assistant' 'attention' 'automate' 'automates' 'automation' 'autonlp'\n",
      " 'avoid' 'avoided' 'aware' 'banking' 'barrier' 'based' 'basic' 'become'\n",
      " 'begin' 'beginning' 'benefit' 'best' 'bet' 'better' 'block' 'blog' 'boat'\n",
      " 'bottom' 'bound' 'brainstorming' 'branch' 'breakthrough' 'broad'\n",
      " 'business' 'call' 'called' 'capability' 'capable' 'capital' 'capitalize'\n",
      " 'carry' 'cautious' 'certainly' 'chain' 'change' 'changing' 'chief'\n",
      " 'classifying' 'code' 'codex' 'coding' 'cognitive' 'cognizant'\n",
      " 'combination' 'commercial' 'common' 'company' 'competition' 'complex'\n",
      " 'computer' 'conditioned' 'consider' 'considered' 'content' 'continue'\n",
      " 'contract' 'conventional' 'copilot' 'core' 'could' 'creating' 'creative'\n",
      " 'creator' 'crisis' 'critical' 'crude' 'current' 'currently' 'customer'\n",
      " 'customized' 'damaging' 'data' 'datasets' 'decision' 'dedicated'\n",
      " 'deepmind' 'demonstrates' 'designed' 'despite' 'determine' 'developed'\n",
      " 'developer' 'developing' 'development' 'different' 'difficult' 'digging'\n",
      " 'disruptive' 'division' 'document' 'drive' 'due' 'early' 'economic'\n",
      " 'economist' 'economy' 'edge' 'effect' 'elicit' 'email' 'emerging'\n",
      " 'employee' 'enable' 'enabled' 'encourage' 'engineer' 'ensuing' 'ensure'\n",
      " 'equitably' 'eric' 'especially' 'essential' 'even' 'every' 'everyone'\n",
      " 'example' 'excels' 'exercise' 'exhibit' 'existing' 'expect' 'expected'\n",
      " 'expects' 'experience' 'explosive' 'extract' 'face' 'fact' 'far' 'fauci'\n",
      " 'feat' 'fewer' 'finance' 'find' 'firm' 'first' 'focused' 'forget' 'form'\n",
      " 'former' 'found' 'foundation' 'francisco' 'future' 'gain' 'game'\n",
      " 'general' 'generalizable' 'generalization' 'generalize' 'generate'\n",
      " 'generating' 'generation' 'get' 'github' 'goal' 'gone' 'good' 'google'\n",
      " 'grabbing' 'great' 'growing' 'growth' 'guardian' 'help' 'high' 'highly'\n",
      " 'hour' 'however' 'hugging' 'human' 'iceberg' 'idea' 'identify'\n",
      " 'identifying' 'ignoring' 'image' 'imaginary' 'implication' 'importance'\n",
      " 'impractical' 'impressive' 'improve' 'inaction' 'including'\n",
      " 'incorporating' 'increase' 'increasing' 'indicative' 'industrial'\n",
      " 'inequality' 'inferior' 'input' 'inspired' 'instead' 'instructgpt'\n",
      " 'instruction' 'integrate' 'integration' 'intelligence' 'intended'\n",
      " 'intention' 'interface' 'involved' 'irresponsible' 'irreversible' 'job'\n",
      " 'known' 'lab' 'label' 'labeling' 'labor' 'lack' 'language' 'large'\n",
      " 'larger' 'latest' 'lead' 'leader' 'leap' 'learning' 'less' 'level'\n",
      " 'leverage' 'leveraged' 'like' 'likely' 'line' 'literature' 'logic'\n",
      " 'looking' 'machine' 'made' 'make' 'maker' 'making' 'manage' 'management'\n",
      " 'manager' 'many' 'market' 'math' 'may' 'mean' 'meeting' 'microsoft'\n",
      " 'might' 'minute' 'model' 'modest' 'month' 'move' 'much' 'multimodal'\n",
      " 'multiple' 'natural' 'nature' 'necessary' 'need' 'new' 'next' 'nlp'\n",
      " 'noisy' 'notion' 'number' 'object' 'offer' 'official' 'one' 'open'\n",
      " 'openai' 'organization' 'original' 'others' 'ought' 'outperform'\n",
      " 'overlooked' 'overlooking' 'overzealous' 'paid' 'pandemic' 'part' 'past'\n",
      " 'perfect' 'perform' 'phone' 'pivotal' 'planning' 'platform' 'poised'\n",
      " 'position' 'possible' 'post' 'potential' 'powerful' 'powering'\n",
      " 'practitioner' 'preceding' 'predict' 'prepare' 'preparedness' 'preparing'\n",
      " 'press' 'previous' 'problem' 'process' 'processing' 'product'\n",
      " 'productive' 'program' 'programmer' 'programming' 'progress' 'promise'\n",
      " 'promising' 'prompt' 'prudent' 'question' 'quicker' 'radically' 'really'\n",
      " 'reasoning' 'recent' 'recently' 'relatively' 'release' 'released'\n",
      " 'relevant' 'remain' 'remember' 'reminded' 'render' 'rendering'\n",
      " 'reorganize' 'rephrase' 'rephrasing' 'replace' 'report' 'research'\n",
      " 'researcher' 'reshaping' 'resource' 'response' 'result' 'review'\n",
      " 'revised' 'revolution' 'right' 'risk' 'role' 'rough' 'san' 'scene'\n",
      " 'schmidt' 'scholar' 'scientist' 'search' 'sector' 'seek' 'sentence'\n",
      " 'sentiment' 'severe' 'show' 'sign' 'significant' 'similar' 'simple'\n",
      " 'simply' 'situation' 'skeptical' 'skill' 'skilled' 'societal' 'society'\n",
      " 'software' 'solving' 'sort' 'specialized' 'specific' 'spend' 'spotty'\n",
      " 'standard' 'start' 'startup' 'state' 'statistic' 'stay' 'step' 'still'\n",
      " 'strategic' 'struggle' 'stunt' 'subsidiary' 'suggestion' 'summarization'\n",
      " 'summarizing' 'supply' 'supporting' 'surprising' 'surprisingly' 'system'\n",
      " 'take' 'talented' 'task' 'team' 'tech' 'technique' 'technology' 'text'\n",
      " 'think' 'thinking' 'three' 'throughout' 'time' 'tip' 'took' 'tool'\n",
      " 'topic' 'toward' 'traditional' 'train' 'trained' 'training' 'transcend'\n",
      " 'transcribed' 'transform' 'transformative' 'tremendous' 'true' 'trying'\n",
      " 'two' 'type' 'typing' 'uk' 'ultimate' 'underestimate' 'understand'\n",
      " 'understanding' 'undesirable' 'unlabeled' 'unlike' 'unlock' 'untold'\n",
      " 'uploading' 'upon' 'us' 'use' 'used' 'useful' 'user' 'using' 'utilize'\n",
      " 'utilizing' 'valuable' 'value' 'variety' 'verneek' 'version' 'video'\n",
      " 'viral' 'visible' 'vocabulary' 'voice' 'want' 'warning' 'way' 'web'\n",
      " 'week' 'well' 'widespread' 'wisdom' 'within' 'without' 'word' 'work'\n",
      " 'working' 'would' 'write' 'writing' 'year' 'yet']\n",
      "\n",
      "Bag of Words Matrix:\n",
      " [[ 1  1  1  1  1  1  1  1  1  2  1  3  2  1  5  1  1  1  1 26  1  5  3  1\n",
      "   1  1  4  1  1  1  1  1  1  1  2  1  1  2  1  2  4  6  2  3  2  1  1  1\n",
      "   1  1  1  1  1  1  1  1  1  3  2  1  3  2  7  1  1  1  1  1  4  1  1  1\n",
      "   7  2  3  2  1  1  1  1  1  2  3  2  2  1  1  1  2  1  4  1  1  1  1  1\n",
      "   2  1  1  1  1  1  1  2  1  1  1  1  4  2  1  1  3  3  1  2  2  2  1  1\n",
      "  19  1  4  1  2  1  1  1  1  1  1  1  1  2  2  1  2  2  1  1  2  1  2  1\n",
      "   1  1  2  8  1  2  2  1  1  1  1  1  1  1  1  1  1  8  1  1  2  1  1  1\n",
      "   2  1  1  1  2  1  1  1  1  1  1  1  2  2  2  5  2  1  1  1  1  1  6  1\n",
      "   4  1  2  4  1  1  1  3  2  1  1  1  1  1  1  5  1  1  1  2  1  1  1  1\n",
      "   1  1  1  7  1  1  2  1  1  2  1  1  1  1  1  1  1  1  1  1  2  1  1  1\n",
      "   1  1  2  1  1  2  1  1  5  2  1  1  1  1  1  2  1  1  1  2  2  1 12  3\n",
      "   1  5  3  2  1  1  1  1  1  1 20  2  1  2  1  1  1  1  2  1  1  1  1  3\n",
      "   5  1  1  8  1  1  1  3  1 20  1  1  1  3  1  1  3  3  1  6  5  4  5  2\n",
      "   1  3  1  1  1  2  1  6 12  1  2  2  1  2  1  1  1  2  2  1  1  1  1  1\n",
      "   1  1  3  1  2  1  6  1  1  1  1  2  1  1  2  1  2  1  2  4  1  1  1  5\n",
      "   4  2  1  1  1  1  3  1  2  1  3  1  3  1  2  1  2  1  1  1  1  1  2  1\n",
      "   1  3  2 10  3  1  1  1  4  2  1  1  2  3  3  1  1  1  1  1  1  1  2  1\n",
      "   1  1  1  2  1  2  2  2  3  1  1  2  2  1  3  1  1  1  3  2  1  1  1  4\n",
      "   2  1  1  1  3  7  2  1  1  1  3  2  1  3  1  1  1  1  1  1 21  1  4  1\n",
      "   5 10  2  2  2  2  2  1  1 17  3  1  3  1  2  2  1  1  4  6  3  1  1  1\n",
      "   1  1  1  1  1  4  5  1  1  1  1  1  1  1  1  2  5  3  1  1  1  1  2  7\n",
      "   3  1  1  3  1  1  1  1  2  1  4  1  1  3  1  1  1  1  3  8  1  1  1  2\n",
      "   3  2]]\n"
     ]
    }
   ],
   "source": [
    "\n",
    "# 5. Convert to Bag of Words (BoW)\n",
    "vectorizer = CountVectorizer()\n",
    "bow_matrix = vectorizer.fit_transform([\" \".join(lemmatized_tokens)])\n",
    "\n",
    "# Print Results\n",
    "print(\"\\nCleaned Tokens:\", lemmatized_tokens)\n",
    "print(\"\\nBag of Words Features:\", vectorizer.get_feature_names_out())\n",
    "print(\"\\nBag of Words Matrix:\\n\", bow_matrix.toarray())"
   ]
  },
  {
   "cell_type": "code",
   "execution_count": null,
   "metadata": {},
   "outputs": [],
   "source": []
  }
 ],
 "metadata": {
  "kernelspec": {
   "display_name": "CSB320_InClass",
   "language": "python",
   "name": "python3"
  },
  "language_info": {
   "codemirror_mode": {
    "name": "ipython",
    "version": 3
   },
   "file_extension": ".py",
   "mimetype": "text/x-python",
   "name": "python",
   "nbconvert_exporter": "python",
   "pygments_lexer": "ipython3",
   "version": "3.9.21"
  }
 },
 "nbformat": 4,
 "nbformat_minor": 2
}
