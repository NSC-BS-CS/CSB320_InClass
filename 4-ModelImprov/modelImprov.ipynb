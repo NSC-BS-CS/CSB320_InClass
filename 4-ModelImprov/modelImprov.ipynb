{
 "cells": [
  {
   "cell_type": "markdown",
   "metadata": {},
   "source": [
    "### Imports\n"
   ]
  },
  {
   "cell_type": "code",
   "execution_count": 26,
   "metadata": {},
   "outputs": [],
   "source": [
    "import pandas as pd\n",
    "from sklearn.preprocessing import LabelEncoder, StandardScaler\n",
    "from sklearn.model_selection import train_test_split\n",
    "from imblearn.over_sampling import SMOTE\n",
    "from sklearn.naive_bayes import GaussianNB\n",
    "from sklearn.metrics import classification_report, accuracy_score\n",
    "from sklearn.impute import KNNImputer\n"
   ]
  },
  {
   "cell_type": "markdown",
   "metadata": {},
   "source": [
    "### Data Collection\n"
   ]
  },
  {
   "cell_type": "code",
   "execution_count": 27,
   "metadata": {},
   "outputs": [],
   "source": [
    "# Load the dataset\n",
    "file_path = \"data/insurance.csv\"  # Update the file path if needed\n",
    "df = pd.read_csv(file_path)"
   ]
  },
  {
   "cell_type": "markdown",
   "metadata": {},
   "source": [
    "### Data Preprocessing\n",
    "\n",
    "1. Explore the data\n"
   ]
  },
  {
   "cell_type": "code",
   "execution_count": 28,
   "metadata": {},
   "outputs": [
    {
     "name": "stdout",
     "output_type": "stream",
     "text": [
      "Initial Data Info:\n",
      "<class 'pandas.core.frame.DataFrame'>\n",
      "RangeIndex: 382154 entries, 0 to 382153\n",
      "Data columns (total 12 columns):\n",
      " #   Column                Non-Null Count   Dtype  \n",
      "---  ------                --------------   -----  \n",
      " 0   id                    382154 non-null  int64  \n",
      " 1   Gender                382154 non-null  object \n",
      " 2   Age                   382144 non-null  float64\n",
      " 3   Driving_License       382154 non-null  int64  \n",
      " 4   Region_Code           382154 non-null  float64\n",
      " 5   Previously_Insured    382154 non-null  int64  \n",
      " 6   Vehicle_Age           382154 non-null  object \n",
      " 7   Vehicle_Damage        382151 non-null  object \n",
      " 8   Annual_Premium        382154 non-null  float64\n",
      " 9   Policy_Sales_Channel  382154 non-null  float64\n",
      " 10  Vintage               382154 non-null  int64  \n",
      " 11  Response              382154 non-null  int64  \n",
      "dtypes: float64(4), int64(5), object(3)\n",
      "memory usage: 35.0+ MB\n",
      "\n",
      "Missing Values:\n",
      "id                       0\n",
      "Gender                   0\n",
      "Age                     10\n",
      "Driving_License          0\n",
      "Region_Code              0\n",
      "Previously_Insured       0\n",
      "Vehicle_Age              0\n",
      "Vehicle_Damage           3\n",
      "Annual_Premium           0\n",
      "Policy_Sales_Channel     0\n",
      "Vintage                  0\n",
      "Response                 0\n",
      "dtype: int64\n",
      "\n",
      "Summary Statistics:\n",
      "                  id            Age  Driving_License    Region_Code  \\\n",
      "count  382154.000000  382144.000000         382154.0  382154.000000   \n",
      "mean   234392.953477      38.545818              1.0      26.406867   \n",
      "std    139527.487326      15.226928              0.0      13.181241   \n",
      "min         1.000000      20.000000              1.0       0.000000   \n",
      "25%    115006.250000      25.000000              1.0      15.000000   \n",
      "50%    230461.500000      36.000000              1.0      28.000000   \n",
      "75%    345434.750000      49.000000              1.0      35.000000   \n",
      "max    508145.000000      85.000000              1.0      52.000000   \n",
      "\n",
      "       Previously_Insured  Annual_Premium  Policy_Sales_Channel  \\\n",
      "count       382154.000000   382154.000000         382154.000000   \n",
      "mean             0.489182    30711.271362            111.939812   \n",
      "std              0.499884    17061.595532             54.286511   \n",
      "min              0.000000     2630.000000              1.000000   \n",
      "25%              0.000000    24546.000000             26.000000   \n",
      "50%              0.000000    31692.000000            145.000000   \n",
      "75%              1.000000    39447.750000            152.000000   \n",
      "max              1.000000   540165.000000            163.000000   \n",
      "\n",
      "             Vintage       Response  \n",
      "count  382154.000000  382154.000000  \n",
      "mean      154.189429       0.163811  \n",
      "std        83.735107       0.370104  \n",
      "min        10.000000       0.000000  \n",
      "25%        81.000000       0.000000  \n",
      "50%       154.000000       0.000000  \n",
      "75%       227.000000       0.000000  \n",
      "max       299.000000       1.000000  \n",
      "\n",
      "Unique Values in Categorical Columns:\n",
      "Gender: 2 unique values\n",
      "Vehicle_Age: 3 unique values\n",
      "Vehicle_Damage: 2 unique values\n"
     ]
    }
   ],
   "source": [
    "\n",
    "# Step 1: Exploring the dataset\n",
    "print(\"Initial Data Info:\")\n",
    "df.info()\n",
    "print(\"\\nMissing Values:\")\n",
    "print(df.isnull().sum())\n",
    "print(\"\\nSummary Statistics:\")\n",
    "print(df.describe())\n",
    "print(\"\\nUnique Values in Categorical Columns:\")\n",
    "categorical_columns = df.select_dtypes(include=['object']).columns\n",
    "for col in categorical_columns:\n",
    "    print(f\"{col}: {df[col].nunique()} unique values\")\n",
    "\n"
   ]
  },
  {
   "cell_type": "markdown",
   "metadata": {},
   "source": [
    "2. Handle Missing Data and Naive Feature Removal\n"
   ]
  },
  {
   "cell_type": "code",
   "execution_count": 30,
   "metadata": {},
   "outputs": [
    {
     "name": "stdout",
     "output_type": "stream",
     "text": [
      "\n",
      "Missing Values:\n",
      "id                      0\n",
      "Gender                  0\n",
      "Age                     0\n",
      "Driving_License         0\n",
      "Region_Code             0\n",
      "Previously_Insured      0\n",
      "Vehicle_Age             0\n",
      "Vehicle_Damage          0\n",
      "Annual_Premium          0\n",
      "Policy_Sales_Channel    0\n",
      "Vintage                 0\n",
      "Response                0\n",
      "dtype: int64\n",
      "\n",
      "Data after dropping Driving_License:\n",
      "<class 'pandas.core.frame.DataFrame'>\n",
      "RangeIndex: 382154 entries, 0 to 382153\n",
      "Data columns (total 11 columns):\n",
      " #   Column                Non-Null Count   Dtype  \n",
      "---  ------                --------------   -----  \n",
      " 0   id                    382154 non-null  int64  \n",
      " 1   Gender                382154 non-null  object \n",
      " 2   Age                   382154 non-null  float64\n",
      " 3   Region_Code           382154 non-null  float64\n",
      " 4   Previously_Insured    382154 non-null  int64  \n",
      " 5   Vehicle_Age           382154 non-null  object \n",
      " 6   Vehicle_Damage        382154 non-null  object \n",
      " 7   Annual_Premium        382154 non-null  float64\n",
      " 8   Policy_Sales_Channel  382154 non-null  float64\n",
      " 9   Vintage               382154 non-null  float64\n",
      " 10  Response              382154 non-null  int64  \n",
      "dtypes: float64(5), int64(3), object(3)\n",
      "memory usage: 32.1+ MB\n",
      "None\n"
     ]
    }
   ],
   "source": [
    "# Step 2: Handle Missing Values\n",
    "# Fill missing Age with the median\n",
    "#df['Age'].fillna(df['Age'].median(), inplace=True)\n",
    "\n",
    "# Select numerical features for KNN imputation\n",
    "num_features = ['Age', 'Annual_Premium', 'Vintage']\n",
    "\n",
    "knn_imputer = KNNImputer(n_neighbors=3)\n",
    "df[num_features] = knn_imputer.fit_transform(df[num_features])\n",
    "\n",
    "# Fill missing Vehicle_Damage with the mode (most common value)\n",
    "#df['Vehicle_Damage'].fillna(df['Vehicle_Damage'].mode()[0], inplace=True)\n",
    "\n",
    "# Fill missing Vehicle_Damage with a new category 'Unknown'\n",
    "df['Vehicle_Damage'] = df['Vehicle_Damage'].fillna('Unknown')\n",
    "\n",
    "print(\"\\nMissing Values:\")\n",
    "print(df.isnull().sum())\n",
    "\n",
    "# Drop Driving_License column\n",
    "df.drop(columns=['Driving_License'], inplace=True)\n",
    "\n",
    "# Verify its gone\n",
    "print(\"\\nData after dropping Driving_License:\")\n",
    "print(df.info())"
   ]
  },
  {
   "cell_type": "code",
   "execution_count": null,
   "metadata": {},
   "outputs": [],
   "source": [
    "# Step 3: Encoding Categorical Variables\n",
    "label_encoders = {}\n",
    "for col in categorical_columns:\n",
    "    le = LabelEncoder()\n",
    "    df[col] = le.fit_transform(df[col])\n",
    "    label_encoders[col] = le  # Store encoders for reference\n",
    "\n"
   ]
  },
  {
   "cell_type": "code",
   "execution_count": null,
   "metadata": {},
   "outputs": [],
   "source": [
    "# Step 4: Feature Scaling\n",
    "scaler = StandardScaler()\n",
    "numerical_features = ['Age', 'Region_Code', 'Annual_Premium', 'Policy_Sales_Channel', 'Vintage']\n",
    "df[numerical_features] = scaler.fit_transform(df[numerical_features])\n",
    "\n"
   ]
  },
  {
   "cell_type": "code",
   "execution_count": null,
   "metadata": {},
   "outputs": [
    {
     "name": "stdout",
     "output_type": "stream",
     "text": [
      "\n",
      "Target Variable Distribution:\n",
      "Response\n",
      "0    319553\n",
      "1     62601\n",
      "Name: count, dtype: int64\n"
     ]
    },
    {
     "name": "stderr",
     "output_type": "stream",
     "text": [
      "/opt/anaconda3/envs/CSB320x/lib/python3.9/site-packages/sklearn/base.py:474: FutureWarning: `BaseEstimator._validate_data` is deprecated in 1.6 and will be removed in 1.7. Use `sklearn.utils.validation.validate_data` instead. This function becomes public and is part of the scikit-learn developer API.\n",
      "  warnings.warn(\n"
     ]
    },
    {
     "name": "stdout",
     "output_type": "stream",
     "text": [
      "\n",
      "Balanced Target Variable Distribution After SMOTE:\n",
      "Response\n",
      "0    319553\n",
      "1    319553\n",
      "Name: count, dtype: int64\n"
     ]
    }
   ],
   "source": [
    "# Step 5: Handling Imbalanced Data using SMOTE\n",
    "target_column = 'Response'\n",
    "print(\"\\nTarget Variable Distribution:\")\n",
    "print(df[target_column].value_counts())\n",
    "\n",
    "X = df.drop(columns=['id', target_column])  # Dropping ID column\n",
    "y = df[target_column]\n",
    "\n",
    "smote = SMOTE(random_state=42)\n",
    "X_resampled, y_resampled = smote.fit_resample(X, y)\n",
    "\n",
    "df_resampled = pd.DataFrame(X_resampled, columns=X.columns)\n",
    "df_resampled[target_column] = y_resampled\n",
    "\n",
    "print(\"\\nBalanced Target Variable Distribution After SMOTE:\")\n",
    "print(df_resampled[target_column].value_counts())\n",
    "\n"
   ]
  },
  {
   "cell_type": "code",
   "execution_count": null,
   "metadata": {},
   "outputs": [
    {
     "name": "stdout",
     "output_type": "stream",
     "text": [
      "\n",
      "Model Accuracy: 0.8172771510381625\n",
      "\n",
      "Classification Report:\n",
      "              precision    recall  f1-score   support\n",
      "\n",
      "           0       0.98      0.65      0.78     63772\n",
      "           1       0.74      0.99      0.84     64050\n",
      "\n",
      "    accuracy                           0.82    127822\n",
      "   macro avg       0.86      0.82      0.81    127822\n",
      "weighted avg       0.86      0.82      0.81    127822\n",
      "\n"
     ]
    }
   ],
   "source": [
    "# Step 6: Model Training and Evaluation with Naive Bayes\n",
    "X_train, X_test, y_train, y_test = train_test_split(X_resampled, y_resampled, test_size=0.2, random_state=42)\n",
    "\n",
    "nb = GaussianNB()\n",
    "nb.fit(X_train, y_train)\n",
    "\n",
    "y_pred = nb.predict(X_test)\n",
    "\n",
    "print(\"\\nModel Accuracy:\", accuracy_score(y_test, y_pred))\n",
    "print(\"\\nClassification Report:\")\n",
    "print(classification_report(y_test, y_pred))\n"
   ]
  },
  {
   "cell_type": "code",
   "execution_count": 16,
   "metadata": {},
   "outputs": [
    {
     "name": "stdout",
     "output_type": "stream",
     "text": [
      "Data modifications completed. Modified dataset saved as 'insurance.csv'.\n"
     ]
    }
   ],
   "source": [
    "import pandas as pd\n",
    "import numpy as np\n",
    "\n",
    "# Load the dataset\n",
    "df = pd.read_csv('data/insurance_orig.csv')\n",
    "\n",
    "# 1. Set all values in 'Driving_License' to 1\n",
    "df['Driving_License'] = 1\n",
    "\n",
    "# 2. Introduce missing data into 'Age' and 'Vehicle_Damage'\n",
    "np.random.seed(42)  # for reproducibility\n",
    "\n",
    "# Introduce missing values into 10 entries of 'Age'\n",
    "age_missing_indices = np.random.choice(df.index, size=10, replace=False)\n",
    "df.loc[age_missing_indices, 'Age'] = np.nan\n",
    "\n",
    "# Introduce missing values into 3 entries of 'Vehicle_Damage'\n",
    "vehicle_damage_missing_indices = np.random.choice(df.index, size=3, replace=False)\n",
    "df.loc[vehicle_damage_missing_indices, 'Vehicle_Damage'] = np.nan\n",
    "\n",
    "# Save the modified dataset\n",
    "df.to_csv('data/insurance.csv', index=False)\n",
    "\n",
    "print(\"Data modifications completed. Modified dataset saved as 'insurance.csv'.\")\n"
   ]
  },
  {
   "cell_type": "code",
   "execution_count": null,
   "metadata": {},
   "outputs": [],
   "source": []
  }
 ],
 "metadata": {
  "kernelspec": {
   "display_name": "CSB320x",
   "language": "python",
   "name": "python3"
  },
  "language_info": {
   "codemirror_mode": {
    "name": "ipython",
    "version": 3
   },
   "file_extension": ".py",
   "mimetype": "text/x-python",
   "name": "python",
   "nbconvert_exporter": "python",
   "pygments_lexer": "ipython3",
   "version": "3.9.22"
  }
 },
 "nbformat": 4,
 "nbformat_minor": 2
}
