{
 "cells": [
  {
   "cell_type": "code",
   "execution_count": null,
   "id": "1e47726a",
   "metadata": {},
   "outputs": [],
   "source": []
  },
  {
   "cell_type": "code",
   "execution_count": 7,
   "id": "34c62fcb",
   "metadata": {},
   "outputs": [
    {
     "name": "stderr",
     "output_type": "stream",
     "text": [
      "[nltk_data] Downloading package stopwords to\n",
      "[nltk_data]     /Users/elloyd/nltk_data...\n",
      "[nltk_data]   Package stopwords is already up-to-date!\n",
      "[nltk_data] Downloading package punkt to /Users/elloyd/nltk_data...\n",
      "[nltk_data]   Package punkt is already up-to-date!\n",
      "[nltk_data] Downloading package wordnet to /Users/elloyd/nltk_data...\n",
      "[nltk_data]   Package wordnet is already up-to-date!\n"
     ]
    },
    {
     "data": {
      "text/plain": [
       "True"
      ]
     },
     "execution_count": 7,
     "metadata": {},
     "output_type": "execute_result"
    }
   ],
   "source": [
    "\n",
    "import pandas as pd\n",
    "import re\n",
    "import nltk\n",
    "import matplotlib.pyplot as plt\n",
    "from nltk.corpus import stopwords\n",
    "from nltk.tokenize import word_tokenize\n",
    "from nltk.stem import WordNetLemmatizer\n",
    "from sklearn.feature_extraction.text import TfidfVectorizer\n",
    "from sklearn.ensemble import RandomForestClassifier\n",
    "from sklearn.model_selection import train_test_split\n",
    "from sklearn.metrics import classification_report\n",
    "\n",
    "# Download required NLTK data\n",
    "nltk.download('stopwords')\n",
    "nltk.download('punkt')\n",
    "nltk.download('wordnet')\n",
    "\n"
   ]
  },
  {
   "cell_type": "code",
   "execution_count": 8,
   "id": "5a5bb601",
   "metadata": {},
   "outputs": [],
   "source": [
    "# Load training data\n",
    "train_df = pd.read_csv(\"data/twitter_training.csv\", header=None)\n",
    "train_df.columns = ['id', 'entity', 'sentiment', 'text']\n",
    "train_df = train_df.drop_duplicates(subset='text').reset_index(drop=True)\n",
    "valid_labels = ['Positive', 'Negative', 'Neutral']\n",
    "df = train_df[train_df['sentiment'].isin(valid_labels)].copy()\n",
    "\n"
   ]
  },
  {
   "cell_type": "code",
   "execution_count": 9,
   "id": "8c0d0bd2",
   "metadata": {},
   "outputs": [],
   "source": [
    "# Preprocessing function\n",
    "def preprocess_text(text):\n",
    "    text = re.sub(r'[^a-zA-Z]', ' ', str(text).lower())\n",
    "    tokens = word_tokenize(text)\n",
    "    tokens = [word for word in tokens if word not in stopwords.words('english')]\n",
    "    lemmatizer = WordNetLemmatizer()\n",
    "    tokens = [lemmatizer.lemmatize(word) for word in tokens]\n",
    "    return ' '.join(tokens)\n",
    "\n",
    "# Preprocess training data\n",
    "df['cleaned'] = df['text'].apply(preprocess_text)\n",
    "\n",
    "\n"
   ]
  },
  {
   "cell_type": "code",
   "execution_count": 10,
   "id": "a2f21253",
   "metadata": {},
   "outputs": [
    {
     "name": "stdout",
     "output_type": "stream",
     "text": [
      "TF-IDF Matrix Sample:\n",
      "   abandon  ability  able  absolute  absolutely   ac  access  accidentally  \\\n",
      "0      0.0      0.0   0.0       0.0         0.0  0.0     0.0           0.0   \n",
      "1      0.0      0.0   0.0       0.0         0.0  0.0     0.0           0.0   \n",
      "2      0.0      0.0   0.0       0.0         0.0  0.0     0.0           0.0   \n",
      "3      0.0      0.0   0.0       0.0         0.0  0.0     0.0           0.0   \n",
      "4      0.0      0.0   0.0       0.0         0.0  0.0     0.0           0.0   \n",
      "\n",
      "   according  account  ...  yet   yo  young  youtu  youtube   yu  zero  \\\n",
      "0        0.0      0.0  ...  0.0  0.0    0.0    0.0      0.0  0.0   0.0   \n",
      "1        0.0      0.0  ...  0.0  0.0    0.0    0.0      0.0  0.0   0.0   \n",
      "2        0.0      0.0  ...  0.0  0.0    0.0    0.0      0.0  0.0   0.0   \n",
      "3        0.0      0.0  ...  0.0  0.0    0.0    0.0      0.0  0.0   0.0   \n",
      "4        0.0      0.0  ...  0.0  0.0    0.0    0.0      0.0  0.0   0.0   \n",
      "\n",
      "   zombie  zone  zoom  \n",
      "0     0.0   0.0   0.0  \n",
      "1     0.0   0.0   0.0  \n",
      "2     0.0   0.0   0.0  \n",
      "3     0.0   0.0   0.0  \n",
      "4     0.0   0.0   0.0  \n",
      "\n",
      "[5 rows x 2000 columns]\n"
     ]
    },
    {
     "data": {
      "image/png": "[encoded data removed]",
      "text/plain": [
       "<Figure size 1000x500 with 1 Axes>"
      ]
     },
     "metadata": {},
     "output_type": "display_data"
    }
   ],
   "source": [
    "# TF-IDF vectorization\n",
    "vectorizer = TfidfVectorizer(max_features=2000)\n",
    "X = vectorizer.fit_transform(df['cleaned'])\n",
    "y = df['sentiment']\n",
    "\n",
    "# View TF-IDF matrix as DataFrame\n",
    "tfidf_df = pd.DataFrame(X.toarray(), columns=vectorizer.get_feature_names_out())\n",
    "print(\"TF-IDF Matrix Sample:\")\n",
    "print(tfidf_df.head())\n",
    "\n",
    "# Plot top 10 TF-IDF terms\n",
    "term_sums = tfidf_df.sum(axis=0).sort_values(ascending=False).head(10)\n",
    "plt.figure(figsize=(10, 5))\n",
    "term_sums.plot(kind='bar')\n",
    "plt.title(\"Top 10 TF-IDF Terms in Tweets\")\n",
    "plt.xlabel(\"Term\")\n",
    "plt.ylabel(\"TF-IDF Score Sum\")\n",
    "plt.tight_layout()\n",
    "plt.show()\n",
    "\n"
   ]
  },
  {
   "cell_type": "code",
   "execution_count": 11,
   "id": "9a1c3d8e",
   "metadata": {},
   "outputs": [
    {
     "name": "stdout",
     "output_type": "stream",
     "text": [
      "\n",
      "Classification Report on Training Split:\n",
      "              precision    recall  f1-score   support\n",
      "\n",
      "    Negative       0.90      0.92      0.91      6350\n",
      "     Neutral       0.93      0.87      0.89      5113\n",
      "    Positive       0.87      0.91      0.89      5720\n",
      "\n",
      "    accuracy                           0.90     17183\n",
      "   macro avg       0.90      0.90      0.90     17183\n",
      "weighted avg       0.90      0.90      0.90     17183\n",
      "\n"
     ]
    }
   ],
   "source": [
    "# Train-test split and train model\n",
    "X_train, X_test, y_train, y_test = train_test_split(X, y, test_size=0.3, stratify=y, random_state=42)\n",
    "clf = RandomForestClassifier(n_estimators=100, random_state=42)\n",
    "clf.fit(X_train, y_train)\n",
    "\n",
    "# Predict and evaluate on test set\n",
    "y_pred = clf.predict(X_test)\n",
    "print(\"\\nClassification Report on Training Split:\")\n",
    "print(classification_report(y_test, y_pred))\n",
    "\n"
   ]
  },
  {
   "cell_type": "code",
   "execution_count": 12,
   "id": "b0bc8fb8",
   "metadata": {},
   "outputs": [
    {
     "name": "stdout",
     "output_type": "stream",
     "text": [
      "\n",
      "Validation Set Evaluation:\n",
      "              precision    recall  f1-score   support\n",
      "\n",
      "    Negative       0.94      0.94      0.94       266\n",
      "     Neutral       0.94      0.93      0.93       285\n",
      "    Positive       0.94      0.94      0.94       277\n",
      "\n",
      "    accuracy                           0.94       828\n",
      "   macro avg       0.94      0.94      0.94       828\n",
      "weighted avg       0.94      0.94      0.94       828\n",
      "\n"
     ]
    }
   ],
   "source": [
    "# ---- Validation Set Evaluation ----\n",
    "val_df = pd.read_csv(\"data/twitter_validation.csv\", header=None)\n",
    "val_df.columns = ['id', 'entity', 'sentiment', 'text']\n",
    "val_df = val_df[val_df['sentiment'].isin(valid_labels)].copy()\n",
    "val_df['cleaned'] = val_df['text'].apply(preprocess_text)\n",
    "\n",
    "# Vectorize and predict\n",
    "X_val = vectorizer.transform(val_df['cleaned'])\n",
    "y_val = val_df['sentiment']\n",
    "y_val_pred = clf.predict(X_val)\n",
    "\n",
    "print(\"\\nValidation Set Evaluation:\")\n",
    "print(classification_report(y_val, y_val_pred))"
   ]
  },
  {
   "cell_type": "markdown",
   "id": "7d4e8c2a",
   "metadata": {},
   "source": [
    "Interpretation:\n",
    "The classifier is performing quite well, especially given the three-class problem.\n",
    "Neutral had slightly lower recall (0.87), meaning it missed more Neutral examples than the others.\n",
    "Balanced F1-scores (~0.89–0.91) across classes suggest the model isn’t overly favoring any one class.\n",
    "90% accuracy is strong, especially considering potential label ambiguity in sentiment (Neutral vs Positive can be subtle).\n"
   ]
  },
  {
   "cell_type": "markdown",
   "id": "f90a1445",
   "metadata": {},
   "source": [
    "Interpretation:\n",
    "These are excellent results on unseen data.\n",
    "F1-scores are slightly better than on the training split, which can happen if:\n",
    "The validation set is slightly easier (more cleanly separated)\n",
    "The training set contains more ambiguous or noisy labels\n",
    "Generalization looks strong — the model’s not just memorizing, it’s learning real signal.\n"
   ]
  }
 ],
 "metadata": {
  "kernelspec": {
   "display_name": "CSB320x",
   "language": "python",
   "name": "python3"
  },
  "language_info": {
   "codemirror_mode": {
    "name": "ipython",
    "version": 3
   },
   "file_extension": ".py",
   "mimetype": "text/x-python",
   "name": "python",
   "nbconvert_exporter": "python",
   "pygments_lexer": "ipython3",
   "version": "3.9.22"
  }
 },
 "nbformat": 4,
 "nbformat_minor": 5
}
